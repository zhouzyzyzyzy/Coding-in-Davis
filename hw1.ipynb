{
 "cells": [
  {
   "cell_type": "markdown",
   "metadata": {},
   "source": [
    "### STA 208: Homework 1 (Do not distribute)\n",
    "\n",
    "## Due 4/13/20 midnight \n",
    "\n",
    "__Instructions:__ To make grading easier for the TAs please submit it on canvas in a zip file with either the scanned solutions clearly written or in the jupyter notebook below.  The zip file should include all of your code either in this notebook file, or a separate python file that is imported and ran in this notebook.  We should be able to open this notebook and run everything here by running the cells in sequence.  The written portions can be either done in markdown and TeX in new cells or written clearly by hand and scanned.\n",
    "\n",
    "- Code should be well organized and documented\n",
    "- All math should be clear and make sense sequentially\n",
    "- When in doubt explain what is going on\n",
    "- You will be graded on correctness of your math, code efficiency and succinctness, and conclusions and modelling decisions"
   ]
  },
  {
   "cell_type": "markdown",
   "metadata": {},
   "source": [
    "__Exercise 1__ (20 pts)\n",
    "\n",
    "Consider the binary classification setting where the training data is $x_i \\in \\mathbb R^p, y_i \\in \\{0,1\\}, i=1,\\ldots,n$ and recall the empirical risk (as a function of the predictor $g : \\mathbb R^p \\to \\{0,1\\}$),\n",
    "$$\n",
    "R_n(g) = \\frac 1n \\sum_{i=1}^n \\ell(y_i, g(x_i)),\n",
    "$$\n",
    "and the true risk is \n",
    "$$\n",
    "R(g) = \\mathbb E \\ell(Y,g(X))\n",
    "$$\n",
    "where $X,Y$ are drawn from their joint distribution $f_{X,Y}(x,y)$.\n",
    "\n",
    "1. Suppose that the loss function is the Hamming loss, $\\ell(y,\\hat y) = 1\\{ y \\ne \\hat y\\}$.  What is the predictor that minimizes the True risk?  (Hint: derive an expression for this based on the joint distribution - you can use expressions involving conditional probabilities.)  This predictor is called the Bayes rule.\n",
    "2. Suppose that we know that the Bayes rule can be written in the form, \n",
    "$$\n",
    "h_j(x) = 1\\{ x_j > 0 \\}, \n",
    "$$\n",
    "for some $j = 1,\\ldots,p$, but we don't know which one.  Now using the empirical risk, what is a reasonable classification algorithm (Hint: you can think of finding a good classifier as a problem of finding $j$).  Describe the fit and predict methods. \n",
    "3. (Challenging) Suppose that I told you that for any fixed $j$ the following probability bound holds (from Hoeffding's inequality)\n",
    "$$\n",
    "\\mathbb P \\left\\{ |R_n(h_j) - R(h_j)| > t \\right\\} \\le 2 \\exp \\left( - 2 n t^2 \\right).\n",
    "$$\n",
    "If $p=10$, how many samples would I need to get a classifier $\\hat g$, from the previous question (part 2), such that \n",
    "$$\n",
    "\\mathbb P \\left\\{ R(\\hat g) < R(h) + 0.1 \\right\\} \\ge 0.95.\n",
    "$$\n",
    "where $h$ is the Bayes rule, namely, the $h_j$ that minimizes $R$.\n",
    "(Hint: use the union bound to show that $R_n(\\hat g) \\approx R(\\hat g)$ and use the fact that $R_n(\\hat g) \\le R_n(h_j)$ for any $j$ because it is in the minimizer.)"
   ]
  },
  {
   "cell_type": "markdown",
   "metadata": {},
   "source": [
    "1.\n",
    "The true risk is \n",
    "$$R(g)=El(Y,g(X))$$\n",
    "We know that the Hamming loss:\n",
    "$$l(Y,g(X))=1\\{Y\\neq g(X)\\}$$\n",
    "so the true risk is:\n",
    "$$R(g)=P(Y\\neq g(X)) = 1-P(Y=g(X))$$\n",
    "so we want to find the predictor $g(X)$ to maximum $P(Y=g(X))$\n",
    "So, we want to find the predictor\n",
    "$$g = \\text{arg}maxP(Y=g(X))$$\n",
    "According to the conditional distribution (f(X,Y) is discrete distribution)\n",
    "$$g = \\text{arg}max P(Y=g(X)) = \\text{arg}max \\sum_{X}P(Y=g(X)|X)P(X)$$\n",
    "The last expression turns to be:\n",
    "$$g = \\text{arg}max \\sum_{X}\\sum_Y f_{X,Y}(g^{-1}(Y),Y)f_{X,Y}(X,Y)$$"
   ]
  },
  {
   "cell_type": "markdown",
   "metadata": {},
   "source": [
    "$\\textbf{Fit method}$\n",
    "\n",
    "For each j = 1,..,p, compute \n",
    "$$R_n(j) = \\frac 1n \\sum_{i=1}^n 1\\{y_i,\\neq h_j(x_i)\\}$$\n",
    "Compare the value of $R_n(j),j = 1,..,p$, and choose the $j_0$ which help the function reach the smallest value.\n",
    "\n",
    "\n",
    "\n",
    "$\\textbf{predict method}$\n",
    "\n",
    "Given any input $x$, compute $h_j(x)$. If $x_j$>0, then $g(x)=1$; otherwise, $g(x)=0$"
   ]
  },
  {
   "cell_type": "markdown",
   "metadata": {},
   "source": [
    "3.  \n",
    "\n",
    "Notice that the union bound\n",
    "$$P(\\bigcup_i A_i) \\leq \\sum_i P(A_i)$$\n",
    "so, $(R_n(\\hat g) \\le R_n(h_j))$\n",
    "\\begin{equation}\n",
    "\\mathbb P \\left\\{ R(\\hat g) < R(h) + t \\right\\}  = \\mathbb P(R(\\hat g)-R_n(\\hat g)+R_n(\\hat g)-R(h)<t) \\\\\n",
    "                                 =\\mathbb P([R(\\hat g)-R_n(\\hat g)]+[R_n(\\hat g)-R(h)]<t) \\\\\n",
    "                                 \\geq \\mathbb P([R(\\hat g)-R_n(\\hat g)]+[R_n(h)-R(h)]<t)\n",
    "\\end{equation}\n",
    "Because\n",
    "$$\n",
    "\\mathbb P \\left\\{ |R_n(h_j) - R(h_j)| > t \\right\\} \\le 2 \\exp \\left( - 2 n t^2 \\right).\n",
    "$$\n",
    "we get\n",
    "$$\n",
    "\\mathbb P \\left\\{ |R_n(h) - R(h)| > t \\right\\} = \\mathbb P \\left\\{ \\bigcup_{j=1}^{10} |R_n(h_j) - R(h_j)| > t \\right\\}\n",
    "\\leq \\sum_{j=1}^{10}P \\left\\{ |R_n(h) - R(h)| > t \\right\\} \\leq 20\\exp \\left( - 2 n t^2 \\right)\n",
    "$$\n",
    "And\n",
    "$$\n",
    "\\mathbb P \\left\\{ R(\\hat g) < R(h) + t \\right\\} \\geq 1- \\mathbb P([R(\\hat g)-R_n(\\hat g)]+[R_n(h)-R(h)]\\geq t) \\geq 0.95\n",
    "$$\n",
    "$$\\mathbb P([R(\\hat g)-R_n(\\hat g)]+[R_n(h)-R(h)]\\geq t) \\leq 0.05$$\n",
    "we know $R_n(\\hat g) \\le R_n(h_j)$\n",
    "$$\\mathbb P(|R_n(h)-R(h)|\\geq t/2) \\leq 0.05$$\n",
    "Finally,solve the inequality\n",
    "$$20\\exp \\left( - 2 n t^2 \\right)\\leq 0.05$$\n",
    "we get that $n>1198$, we need 1199 samples."
   ]
  },
  {
   "cell_type": "markdown",
   "metadata": {},
   "source": [
    "__Exercise 2__ (20 pts)\n",
    "\n",
    "Consider the regression setting in which $x_i \\in \\mathbb R^p$ and $y_i \\in \\mathbb R$, for $i=1,\\ldots,n$ and $p < n$.\n",
    "\n",
    "1. For a given regressor, let $\\hat y_i$ be prediction given $x_i$, and $\\hat y$ be the vector form.  Show that both linear regression and k-nearest neighbors can be written in the form\n",
    "$$\n",
    "\\hat y = H y,\n",
    "$$\n",
    "where $H$ is dependent on $X$ (the matrix of where each row is $x_i$), assuming that $p < n$ and $X$ is full rank.  Give an expression for $H$ or an algorithm for computing $H$.  Assume that the KNN algorithm will use the same point as its own nearest neighbor (this is consistent with what you get if you use the same dataset in fit and predict in sklearn.)  You can just write it in words or pseudocode. \n",
    "2. Give a simple modification to your algorithm to compute the KNN's $H$ matrix so that a sample does not use its own point.  Derive an expression for the leave-one-out cross validated squared error based on this $H$. You can just write it in words or pseudocode. \n",
    "3. For linear regression (with $p < n$ and $X$ is full rank), let $X = U D V^\\top$ be the singular value decomposition where $U$ is $n \\times p$, and $V, D$ is $p \\times p$ ($D$ is diagonal). Derive an expression for the OLS coefficients $\\beta = A b$ such that $A$ is $p \\times p$ and depends on $V$ and $D$, and $b$ is a $p$ vector and does not depend on $D$.  Describe a fit method that precomputes these quantities separately, and describe a predict method.\n",
    "\n",
    "\n",
    "4. Consider a regressor that performs OLS using the SVD above, but every instance of D will only use the largest $r$ values, and only the first $r$ columns of $U,V$ would be used.  Let $U_r, V_r$ be the $n \\times r$ and $p \\times r$ eigenvector matrices.  Call the new $r \\times r$ matrix $D_r$ ($r < p$) which just has the top $r$ singular values.  Then the new coefficient vector is the OLS computed as if the design matrix is modified by $X \\gets U_r D_r V_r^\\top$.  Given that you have computed $b$ already, how could you make a method `change_rank` that recomputes $A$ with $D_r$ instead of $D$?  What is its computational complexity (it should not depend on n)?"
   ]
  },
  {
   "cell_type": "markdown",
   "metadata": {},
   "source": [
    "1.\n",
    "\n",
    "For the linear regression, we know that the ecpression is \n",
    "$$Y = X\\beta+\\epsilon$$\n",
    "Least square criterion is\n",
    "$$Q(\\beta) = (Y-X\\beta)^T(Y-X\\beta)$$\n",
    "differentiate it with respect to $\\beta$\n",
    "$$-2X^TY+2X^TX\\beta=0$$\n",
    "so $\\beta = (X^TX)^{-1}X^TY$. $$\\hat{y} = X\\beta = X(X^TX)^{-1}X^Ty = HY$$\n",
    "here $H = X(X^TX)^{-1}X^T$.\n",
    "\n",
    "For k-nearest neighbor, the output is the average of the values of k nearest neighbors\n",
    "$$\\hat{y_i} = \\frac 1k \\sum_{j=1}^k y_{i,j}$$\n",
    "notice that we can construct a $n*n$ matrix, whose entries are 0 and 1. For each row, there are k 1s' and n-k 0s'. The index of 1 represents the index of the k nearest neighbors. Denote the matrix by H. The matrix form is\n",
    "$$\\hat{y} = Hy$$\n",
    "Bacause the distance function is $d(X_i,X_j)$,so the matrix H is dependent on X."
   ]
  },
  {
   "cell_type": "markdown",
   "metadata": {},
   "source": [
    "2.\n",
    "\n",
    "In the k-nearest neighbor regression, for each point, the nearest neighbour is itself. The modified $H$ that a sample does not use its own point is \n",
    "$$\\hat{y_i} = \\frac 1k (\\sum_{j=1}^{k+1} y_{i,j}-y_i) = H_0y_i$$\n",
    "So the matrix $H_0$ changes a little. The index of 1 represents the index of the k+1 nearest neighbors except itself. The leave-one-out cross validated squared error is\n",
    "$$\\sum_{i=1}^n (y_i - H_0y_i)^2$$"
   ]
  },
  {
   "cell_type": "markdown",
   "metadata": {},
   "source": [
    "3.\n",
    "\n",
    "We know that $\\beta = (X^TX)^{-1}X^TY$. Here the singular value decomposition gives $X=UDV^T$, so we know that \n",
    "$$\\beta = (VD^TU^TUDV^T)^{-1}VD^TU^TY = (VD^2V^T)^{-1}VD^TU^TY =(V^T)^{-1}D^{-1}U^TY = VD^{-1}U^TY$$\n",
    "V and D are $p*p$ and U is $n*p$. So $VD^{-1}$ is $p*p$ and $U^TY$ is $n*1$, which means that \n",
    "$$\\beta = (VD^{-1})(U^TY) = Ab$$"
   ]
  },
  {
   "cell_type": "markdown",
   "metadata": {},
   "source": [
    "4.\n",
    "\n",
    "We know that $\\beta = (X^TX)^{-1}X^TY$ and $X \\gets U_r D_r V_r^T$, so\n",
    "$$\\beta_r = (V_r D_r^T U_r^T U_r D_r V_r^T)^{-1}V_r D_r^T U_r^TY = (V_r D_r^T D_r V_r^T)^{-1} V_r D_r^T  U_r^TY$$\n",
    "Let $V_r D_r^T = B_r$, then $\\beta_r = (B_rB_r^T)^{-1}B_rU_r^TY$. Let $A_r=(B_rB_r^T)^{-1}B_r$ and $b_r=U_r^TY$.\n",
    "$D$ is a diag matrix, $D=diag(D_r,D_{p-r})$ and $V$ is a $p*p$ matrix and $V_r$ is $p*r$ matrix. $B_r$ is a $p*r$ matrix and it is the submatrix of $VD^T$. So we only need to compute the $VD^T$ at the beginning .\n",
    "\n",
    "However, if we consider the formula above, we may get $A_r = V_rD_r^{-1}$ and according to my code, it has a better performance. \n",
    "\n",
    "The computational complexity of inverse $(B_rB_r^T)^{-1}$ is $O(p^3)$.\n",
    "\n",
    "The computational complexity of inverse $V_rD_r^{-1}$ is $O(p*r)$."
   ]
  },
  {
   "cell_type": "markdown",
   "metadata": {},
   "source": [
    "__Exercise 3__ (30 pts)\n",
    "\n",
    "We call the method that zeros out all but $r$ largest singular values in OLS, singular value regression.  Implement the singular value regressor as a sklearn style class below.  Test it by simulating the training and test data from the `gen_LR_data` function below and calculate the average square error on the test set.  Do this for each choice of `r` in the fit function (from 1 to $p$)."
   ]
  },
  {
   "cell_type": "code",
   "execution_count": 6,
   "metadata": {},
   "outputs": [],
   "source": [
    "import numpy as np\n",
    "from scipy.linalg import svd"
   ]
  },
  {
   "cell_type": "code",
   "execution_count": 383,
   "metadata": {},
   "outputs": [],
   "source": [
    "class SingularValueRegressor:\n",
    "    \"\"\"\n",
    "    : A regression object that uses the SVD to fit and predict\n",
    "    : Init: specify rank r\n",
    "    : .fit: solve the SVD of X and precompute beta\n",
    "    : .predict: Return y hat for X_test\n",
    "    \"\"\"\n",
    "    \n",
    "    def __init__(self,r):\n",
    "        \"\"\"\n",
    "        : Store the rank\n",
    "        \"\"\"\n",
    "        self.r = r\n",
    "\n",
    "        \n",
    "    def fit(self,X,y):\n",
    "        \"\"\"\n",
    "        : Computes and stores the SVD (use scipy.linalg.svd)\n",
    "        : Computes beta for rank r singular value regression\n",
    "        \"\"\"\n",
    "        self.y = y\n",
    "        X0 = np.c_[np.ones((X.shape[0],1)), X]\n",
    "        self.U, self.D, self.VT = np.linalg.svd(X0, full_matrices=False)\n",
    "        Dr = np.diag(list(self.D[:self.r]))\n",
    "        Vr = self.VT[:self.r,:] \n",
    "        #B = Vr.T @ Dr                  \n",
    "        #Ar = np.linalg.inv(B @ B.T) @ B\n",
    "        Ar2 = Vr.T @ np.linalg.inv(Dr)\n",
    "        Ur = self.U[:,:self.r]     \n",
    "        br = Ur.T @ self.y\n",
    "        #self.beta = Ar @ br     \n",
    "        self.beta2 = Ar2 @ br \n",
    "        \n",
    "    def predict(self,X_test):\n",
    "        \"\"\"\n",
    "        : Outputs the predicted y given the predictors X_test\n",
    "        \"\"\"\n",
    "        X_test0 = np.c_[np.ones((X_test.shape[0],1)),X_test]\n",
    "        return X_test0 @ self.beta2\n",
    "        \n",
    "    def change_rank(self,r):\n",
    "        \"\"\"\n",
    "        : Assumes that the SVD has been computed and uses it to change the rank; after\n",
    "        : running the new regressor object should be as if we fit with the new rank r\n",
    "        \"\"\"\n",
    "        Dr = np.diag(list(self.D[:r]))\n",
    "        Vr = self.VT[:r,:] \n",
    "        #B = Vr.T @ Dr \n",
    "        #Ar = np.linalg.inv(B @ B.T) @ B\n",
    "        Ar2 = Vr.T @ np.linalg.inv(Dr)\n",
    "        Ur = self.U[:,:r]     \n",
    "        br = Ur.T @ self.y\n",
    "        #self.beta = Ar @ br     \n",
    "        self.beta2 = Ar2 @ br   "
   ]
  },
  {
   "cell_type": "code",
   "execution_count": 376,
   "metadata": {},
   "outputs": [],
   "source": [
    "def gen_LR_data(r = 10, p = 20, n = 100):\n",
    "    \"\"\"\n",
    "    : generate data from an approx low rank regression model\n",
    "    \"\"\"\n",
    "    alpha = np.random.chisquare(1,size = (p,r)) #X coefficients\n",
    "    Z = np.random.normal(size=(n,r)) #X covariates\n",
    "    beta = np.random.normal(size = r) #reg covs\n",
    "    mu = Z @ beta #hidden mean\n",
    "    Xmean = Z @ alpha.T #random transformation of Z\n",
    "    X = Xmean + np.random.normal(0,.5,size=(n,p)) #add noise - not exactly low rank\n",
    "    X_test = Xmean + np.random.normal(0,.5,size=(n,p))\n",
    "    y = mu + np.random.normal(0,1,size=(n))\n",
    "    y_test = mu + np.random.normal(0,1,size=(n))\n",
    "    return (X,y,X_test,y_test)"
   ]
  },
  {
   "cell_type": "code",
   "execution_count": 377,
   "metadata": {},
   "outputs": [
    {
     "data": {
      "text/plain": [
       "Text(0, 0.5, 'the average square error')"
      ]
     },
     "execution_count": 377,
     "metadata": {},
     "output_type": "execute_result"
    },
    {
     "data": {
      "image/png": "[encoded data removed]",
      "text/plain": [
       "<Figure size 432x288 with 1 Axes>"
      ]
     },
     "metadata": {
      "needs_background": "light"
     },
     "output_type": "display_data"
    }
   ],
   "source": [
    "X,y,X_test,y_test = gen_LR_data()\n",
    "SVR = SingularValueRegressor(1) #initialize\n",
    "SVR.fit(X,y)\n",
    "\n",
    "ASE_list = []\n",
    "for r in range(21):\n",
    "    SVR.change_rank(r+1)\n",
    "    ASE = np.square(SVR.predict(X_test)- y_test).mean()\n",
    "    ASE_list.append(ASE)\n",
    "\n",
    "import matplotlib.pyplot as plt\n",
    "plt.plot(list(range(21)),ASE_list)\n",
    "plt.xlabel('rank r')\n",
    "plt.ylabel('the average square error')"
   ]
  },
  {
   "cell_type": "markdown",
   "metadata": {},
   "source": [
    "# My Question\n",
    "In the part 2.4, I get\n",
    "$$\\beta_r =  (V_r D_r^T D_r V_r^T)^{-1} V_r D_r^T  U_r^TY$$\n",
    "Because $V_r$ is not Square matrix, so we cannot simplify the formula. Then why the performance is so poor when I use this equation to compute $A_r$ ? I think $A_r = V_rD^{-1}$ is incorrect because I cannot gei it."
   ]
  },
  {
   "cell_type": "markdown",
   "metadata": {},
   "source": [
    "__Exercise 4__ (30 pts)\n",
    "\n",
    "The dataset in the hw1 directory has a Y variable, 7 predictor variables (X1 - X7).  Using sklearn and the class that you constructed above, compare ridge regression, OLS, kNN, and SingularValueRegressor.  Compare and tune the methods using appropriate testing procedures.  Comment on the tuning of each parameter in ridge, kNN, and SingularValueRegressor in markdown.  Be sure to standardize the X variables first and decide how to deal with NAs.  "
   ]
  },
  {
   "cell_type": "code",
   "execution_count": 247,
   "metadata": {},
   "outputs": [],
   "source": [
    "import pandas as pd\n",
    "from sklearn import linear_model"
   ]
  },
  {
   "cell_type": "code",
   "execution_count": 418,
   "metadata": {},
   "outputs": [
    {
     "data": {
      "text/html": [
       "<div>\n",
       "<style scoped>\n",
       "    .dataframe tbody tr th:only-of-type {\n",
       "        vertical-align: middle;\n",
       "    }\n",
       "\n",
       "    .dataframe tbody tr th {\n",
       "        vertical-align: top;\n",
       "    }\n",
       "\n",
       "    .dataframe thead th {\n",
       "        text-align: right;\n",
       "    }\n",
       "</style>\n",
       "<table border=\"1\" class=\"dataframe\">\n",
       "  <thead>\n",
       "    <tr style=\"text-align: right;\">\n",
       "      <th></th>\n",
       "      <th>Y</th>\n",
       "      <th>X1</th>\n",
       "      <th>X2</th>\n",
       "      <th>X3</th>\n",
       "      <th>X4</th>\n",
       "      <th>X5</th>\n",
       "      <th>X6</th>\n",
       "      <th>X7</th>\n",
       "    </tr>\n",
       "  </thead>\n",
       "  <tbody>\n",
       "    <tr>\n",
       "      <th>0</th>\n",
       "      <td>18.0</td>\n",
       "      <td>8.0</td>\n",
       "      <td>307.0</td>\n",
       "      <td>130.0</td>\n",
       "      <td>3504.0</td>\n",
       "      <td>12.0</td>\n",
       "      <td>70.0</td>\n",
       "      <td>1.0</td>\n",
       "    </tr>\n",
       "    <tr>\n",
       "      <th>1</th>\n",
       "      <td>15.0</td>\n",
       "      <td>8.0</td>\n",
       "      <td>350.0</td>\n",
       "      <td>165.0</td>\n",
       "      <td>3693.0</td>\n",
       "      <td>11.5</td>\n",
       "      <td>70.0</td>\n",
       "      <td>1.0</td>\n",
       "    </tr>\n",
       "    <tr>\n",
       "      <th>2</th>\n",
       "      <td>18.0</td>\n",
       "      <td>8.0</td>\n",
       "      <td>318.0</td>\n",
       "      <td>150.0</td>\n",
       "      <td>3436.0</td>\n",
       "      <td>11.0</td>\n",
       "      <td>70.0</td>\n",
       "      <td>1.0</td>\n",
       "    </tr>\n",
       "    <tr>\n",
       "      <th>3</th>\n",
       "      <td>16.0</td>\n",
       "      <td>8.0</td>\n",
       "      <td>304.0</td>\n",
       "      <td>150.0</td>\n",
       "      <td>3433.0</td>\n",
       "      <td>12.0</td>\n",
       "      <td>70.0</td>\n",
       "      <td>1.0</td>\n",
       "    </tr>\n",
       "    <tr>\n",
       "      <th>4</th>\n",
       "      <td>17.0</td>\n",
       "      <td>8.0</td>\n",
       "      <td>302.0</td>\n",
       "      <td>140.0</td>\n",
       "      <td>3449.0</td>\n",
       "      <td>10.5</td>\n",
       "      <td>70.0</td>\n",
       "      <td>1.0</td>\n",
       "    </tr>\n",
       "  </tbody>\n",
       "</table>\n",
       "</div>"
      ],
      "text/plain": [
       "      Y   X1     X2     X3      X4    X5    X6   X7\n",
       "0  18.0  8.0  307.0  130.0  3504.0  12.0  70.0  1.0\n",
       "1  15.0  8.0  350.0  165.0  3693.0  11.5  70.0  1.0\n",
       "2  18.0  8.0  318.0  150.0  3436.0  11.0  70.0  1.0\n",
       "3  16.0  8.0  304.0  150.0  3433.0  12.0  70.0  1.0\n",
       "4  17.0  8.0  302.0  140.0  3449.0  10.5  70.0  1.0"
      ]
     },
     "execution_count": 418,
     "metadata": {},
     "output_type": "execute_result"
    }
   ],
   "source": [
    "data_mat = pd.read_csv('hw1_data.csv')\n",
    "data_mat.head()"
   ]
  },
  {
   "cell_type": "markdown",
   "metadata": {},
   "source": [
    "Some notes for the NAs, you need to replace the NAs somehow to use these methods.  The SimpleImputer will replace the NAs with the mean,median, etc.  You can fit this on the training data and use this to transform for the test set.  We can see that any imputer that is fit only on the training set also can give you that the test error is an unbiased risk estimator.  Let $\\hat I$ be the imputer transform and $\\hat f$ be any trained predictor.\n",
    "\n",
    "$$\\hat I: R^p \\to R^{p}$$\n",
    "$$\\hat f: R^{p} \\to R$$\n",
    "\n",
    "For example,\n",
    "$(\\hat I(x))_j = $ $x_j$ if non-missing and $\\hat \\mu_j$ if missing \n",
    "or you could add a missingness indicator,\n",
    "$$\\hat I_2: R^p \\to R^{2p}$$\n",
    "\n",
    "$(\\hat I_2(x))_j = $ $x_j$ if non-missing and $\\hat \\mu_j$ if missing for $j =1,\\ldots,p$\n",
    "\n",
    "$(\\hat I_2(x))_{p+j} = $ $0$ if non-missing and $1$ if missing for $j =1,\\ldots,p$\n",
    "\n",
    "The trained predictor could be linear,\n",
    "ex. $\\hat f(\\hat I(x)) = \\hat I(x)^\\top \\hat \\beta$\n",
    "\n",
    "Then we can combine these steps into one predictor,\n",
    "$\\hat g(x) = \\hat f (\\hat I (x))$.\n",
    "\n",
    "The test error is still an unbiased risk estimator,\n",
    "$$\\frac{1}{n_t} \\sum_{i=n_0+1}^{n_0+n_t} (y_i - \\hat g(x_i))^2.$$"
   ]
  },
  {
   "cell_type": "code",
   "execution_count": 419,
   "metadata": {},
   "outputs": [],
   "source": [
    "from sklearn import preprocessing"
   ]
  },
  {
   "cell_type": "code",
   "execution_count": 420,
   "metadata": {},
   "outputs": [],
   "source": [
    "y = data_mat['Y']\n",
    "X_0 = data_mat.drop('Y', axis = 1)"
   ]
  },
  {
   "cell_type": "code",
   "execution_count": 421,
   "metadata": {},
   "outputs": [
    {
     "data": {
      "text/html": [
       "<div>\n",
       "<style scoped>\n",
       "    .dataframe tbody tr th:only-of-type {\n",
       "        vertical-align: middle;\n",
       "    }\n",
       "\n",
       "    .dataframe tbody tr th {\n",
       "        vertical-align: top;\n",
       "    }\n",
       "\n",
       "    .dataframe thead th {\n",
       "        text-align: right;\n",
       "    }\n",
       "</style>\n",
       "<table border=\"1\" class=\"dataframe\">\n",
       "  <thead>\n",
       "    <tr style=\"text-align: right;\">\n",
       "      <th></th>\n",
       "      <th>X1</th>\n",
       "      <th>X2</th>\n",
       "      <th>X3</th>\n",
       "      <th>X4</th>\n",
       "      <th>X5</th>\n",
       "      <th>X6</th>\n",
       "      <th>X7</th>\n",
       "    </tr>\n",
       "  </thead>\n",
       "  <tbody>\n",
       "    <tr>\n",
       "      <th>count</th>\n",
       "      <td>398.000000</td>\n",
       "      <td>398.000000</td>\n",
       "      <td>392.000000</td>\n",
       "      <td>398.000000</td>\n",
       "      <td>398.000000</td>\n",
       "      <td>398.000000</td>\n",
       "      <td>398.000000</td>\n",
       "    </tr>\n",
       "    <tr>\n",
       "      <th>mean</th>\n",
       "      <td>5.454774</td>\n",
       "      <td>193.425879</td>\n",
       "      <td>104.469388</td>\n",
       "      <td>2970.424623</td>\n",
       "      <td>15.568090</td>\n",
       "      <td>76.010050</td>\n",
       "      <td>1.572864</td>\n",
       "    </tr>\n",
       "    <tr>\n",
       "      <th>std</th>\n",
       "      <td>1.701004</td>\n",
       "      <td>104.269838</td>\n",
       "      <td>38.491160</td>\n",
       "      <td>846.841774</td>\n",
       "      <td>2.757689</td>\n",
       "      <td>3.697627</td>\n",
       "      <td>0.802055</td>\n",
       "    </tr>\n",
       "    <tr>\n",
       "      <th>min</th>\n",
       "      <td>3.000000</td>\n",
       "      <td>68.000000</td>\n",
       "      <td>46.000000</td>\n",
       "      <td>1613.000000</td>\n",
       "      <td>8.000000</td>\n",
       "      <td>70.000000</td>\n",
       "      <td>1.000000</td>\n",
       "    </tr>\n",
       "    <tr>\n",
       "      <th>25%</th>\n",
       "      <td>4.000000</td>\n",
       "      <td>104.250000</td>\n",
       "      <td>75.000000</td>\n",
       "      <td>2223.750000</td>\n",
       "      <td>13.825000</td>\n",
       "      <td>73.000000</td>\n",
       "      <td>1.000000</td>\n",
       "    </tr>\n",
       "    <tr>\n",
       "      <th>50%</th>\n",
       "      <td>4.000000</td>\n",
       "      <td>148.500000</td>\n",
       "      <td>93.500000</td>\n",
       "      <td>2803.500000</td>\n",
       "      <td>15.500000</td>\n",
       "      <td>76.000000</td>\n",
       "      <td>1.000000</td>\n",
       "    </tr>\n",
       "    <tr>\n",
       "      <th>75%</th>\n",
       "      <td>8.000000</td>\n",
       "      <td>262.000000</td>\n",
       "      <td>126.000000</td>\n",
       "      <td>3608.000000</td>\n",
       "      <td>17.175000</td>\n",
       "      <td>79.000000</td>\n",
       "      <td>2.000000</td>\n",
       "    </tr>\n",
       "    <tr>\n",
       "      <th>max</th>\n",
       "      <td>8.000000</td>\n",
       "      <td>455.000000</td>\n",
       "      <td>230.000000</td>\n",
       "      <td>5140.000000</td>\n",
       "      <td>24.800000</td>\n",
       "      <td>82.000000</td>\n",
       "      <td>3.000000</td>\n",
       "    </tr>\n",
       "  </tbody>\n",
       "</table>\n",
       "</div>"
      ],
      "text/plain": [
       "               X1          X2          X3           X4          X5  \\\n",
       "count  398.000000  398.000000  392.000000   398.000000  398.000000   \n",
       "mean     5.454774  193.425879  104.469388  2970.424623   15.568090   \n",
       "std      1.701004  104.269838   38.491160   846.841774    2.757689   \n",
       "min      3.000000   68.000000   46.000000  1613.000000    8.000000   \n",
       "25%      4.000000  104.250000   75.000000  2223.750000   13.825000   \n",
       "50%      4.000000  148.500000   93.500000  2803.500000   15.500000   \n",
       "75%      8.000000  262.000000  126.000000  3608.000000   17.175000   \n",
       "max      8.000000  455.000000  230.000000  5140.000000   24.800000   \n",
       "\n",
       "               X6          X7  \n",
       "count  398.000000  398.000000  \n",
       "mean    76.010050    1.572864  \n",
       "std      3.697627    0.802055  \n",
       "min     70.000000    1.000000  \n",
       "25%     73.000000    1.000000  \n",
       "50%     76.000000    1.000000  \n",
       "75%     79.000000    2.000000  \n",
       "max     82.000000    3.000000  "
      ]
     },
     "execution_count": 421,
     "metadata": {},
     "output_type": "execute_result"
    }
   ],
   "source": [
    "X_0.describe() "
   ]
  },
  {
   "cell_type": "markdown",
   "metadata": {},
   "source": [
    "Obviously, X3 has several missing value. We replace the NAs with the mean here."
   ]
  },
  {
   "cell_type": "code",
   "execution_count": 422,
   "metadata": {},
   "outputs": [
    {
     "name": "stdout",
     "output_type": "stream",
     "text": [
      "X1    0\n",
      "X2    0\n",
      "X3    6\n",
      "X4    0\n",
      "X5    0\n",
      "X6    0\n",
      "X7    0\n",
      "dtype: int64\n"
     ]
    }
   ],
   "source": [
    "print(X_0.isnull().sum())"
   ]
  },
  {
   "cell_type": "code",
   "execution_count": 423,
   "metadata": {},
   "outputs": [
    {
     "name": "stdout",
     "output_type": "stream",
     "text": [
      "X1    0\n",
      "X2    0\n",
      "X3    0\n",
      "X4    0\n",
      "X5    0\n",
      "X6    0\n",
      "X7    0\n",
      "dtype: int64\n"
     ]
    }
   ],
   "source": [
    "X_0['X3'].fillna(104.5, inplace=True)\n",
    "print(X_0.isnull().sum())"
   ]
  },
  {
   "cell_type": "code",
   "execution_count": 424,
   "metadata": {},
   "outputs": [],
   "source": [
    "# Get column names first\n",
    "names = X_0.columns\n",
    "# Create the Scaler object\n",
    "scaler = preprocessing.StandardScaler()\n",
    "# Fit your data on the scaler object\n",
    "scaled = scaler.fit_transform(X_0)\n",
    "X = pd.DataFrame(scaled, columns=names)"
   ]
  },
  {
   "cell_type": "code",
   "execution_count": 449,
   "metadata": {},
   "outputs": [],
   "source": [
    "from sklearn.model_selection import train_test_split\n",
    "X_train, X_test, y_train, y_test = train_test_split(X, y, test_size=0.25, random_state=208)"
   ]
  },
  {
   "cell_type": "code",
   "execution_count": 450,
   "metadata": {},
   "outputs": [
    {
     "data": {
      "text/plain": [
       "Text(0, 0.5, 'MSE')"
      ]
     },
     "execution_count": 450,
     "metadata": {},
     "output_type": "execute_result"
    },
    {
     "data": {
      "image/png": "[encoded data removed]",
      "text/plain": [
       "<Figure size 432x288 with 1 Axes>"
      ]
     },
     "metadata": {
      "needs_background": "light"
     },
     "output_type": "display_data"
    }
   ],
   "source": [
    "from sklearn.linear_model import Ridge\n",
    "# ridge regression\n",
    "MSE_list=[]\n",
    "n=80\n",
    "for i in range(n):\n",
    "    RR = Ridge(alpha=i/10)\n",
    "    RR.fit(X_train, y_train)\n",
    "    MSE = np.square(RR.predict(X_test) - y_test).mean()\n",
    "    MSE_list.append(MSE)\n",
    "plt.plot(list(range(n)),MSE_list)\n",
    "plt.xlabel('alpha')\n",
    "plt.ylabel('MSE')"
   ]
  },
  {
   "cell_type": "code",
   "execution_count": 451,
   "metadata": {},
   "outputs": [
    {
     "name": "stdout",
     "output_type": "stream",
     "text": [
      "The MSE of RR is 14.966726565996398\n"
     ]
    }
   ],
   "source": [
    "RR = Ridge(alpha=0/10)\n",
    "RR.fit(X_train, y_train)\n",
    "MSE = np.square(RR.predict(X_test) - y_test).mean()\n",
    "print('The MSE of RR is '+str(MSE))"
   ]
  },
  {
   "cell_type": "code",
   "execution_count": 452,
   "metadata": {},
   "outputs": [
    {
     "data": {
      "text/plain": [
       "Text(0, 0.5, 'MSE')"
      ]
     },
     "execution_count": 452,
     "metadata": {},
     "output_type": "execute_result"
    },
    {
     "data": {
      "image/png": "[encoded data removed]",
      "text/plain": [
       "<Figure size 432x288 with 1 Axes>"
      ]
     },
     "metadata": {
      "needs_background": "light"
     },
     "output_type": "display_data"
    }
   ],
   "source": [
    "X_train, X_test, y_train, y_test = train_test_split(X, y, test_size=0.25, random_state=20676)\n",
    "MSE_list=[]\n",
    "n=80\n",
    "for i in range(n):\n",
    "    RR = Ridge(alpha=i/10)\n",
    "    RR.fit(X_train, y_train)\n",
    "    MSE = np.square(RR.predict(X_test) - y_test).mean()\n",
    "    MSE_list.append(MSE)\n",
    "plt.plot(list(range(n)),MSE_list)\n",
    "plt.xlabel('alpha')\n",
    "plt.ylabel('MSE')"
   ]
  },
  {
   "cell_type": "code",
   "execution_count": 453,
   "metadata": {},
   "outputs": [
    {
     "name": "stdout",
     "output_type": "stream",
     "text": [
      "The MSE of RR is 10.647206525446192\n"
     ]
    }
   ],
   "source": [
    "RR = Ridge(alpha=6.5)\n",
    "RR.fit(X_train, y_train)\n",
    "MSE = np.square(RR.predict(X_test) - y_test).mean()\n",
    "print('The MSE of RR is '+str(MSE))"
   ]
  },
  {
   "cell_type": "markdown",
   "metadata": {},
   "source": [
    "In this model, It is hard to say when the model has the best performance. But the MSE of the model is less than 11, which represents a good performance."
   ]
  },
  {
   "cell_type": "code",
   "execution_count": 454,
   "metadata": {},
   "outputs": [
    {
     "name": "stdout",
     "output_type": "stream",
     "text": [
      "The MSE of OLS is 10.82102080667232\n"
     ]
    }
   ],
   "source": [
    "from sklearn.linear_model import LinearRegression\n",
    "#OLS\n",
    "\n",
    "OLS = LinearRegression()\n",
    "OLS.fit(X_train, y_train)\n",
    "MSE = np.square(OLS.predict(X_test) - y_test).mean()\n",
    "print('The MSE of OLS is '+str(MSE))"
   ]
  },
  {
   "cell_type": "code",
   "execution_count": 455,
   "metadata": {},
   "outputs": [
    {
     "data": {
      "text/plain": [
       "Text(0, 0.5, 'MSE')"
      ]
     },
     "execution_count": 455,
     "metadata": {},
     "output_type": "execute_result"
    },
    {
     "data": {
      "image/png": "[encoded data removed]",
      "text/plain": [
       "<Figure size 432x288 with 1 Axes>"
      ]
     },
     "metadata": {
      "needs_background": "light"
     },
     "output_type": "display_data"
    }
   ],
   "source": [
    "from sklearn.neighbors import KNeighborsRegressor\n",
    "\n",
    "MSE_list=[]\n",
    "for i in range(30):\n",
    "    KNN = KNeighborsRegressor(n_neighbors=i+1)\n",
    "    KNN.fit(X_train, y_train)\n",
    "    MSE = np.square(KNN.predict(X_test) - y_test).mean()\n",
    "    MSE_list.append(MSE)\n",
    "plt.plot(list(range(30)),MSE_list)\n",
    "plt.xlabel('neighbors')\n",
    "plt.ylabel('MSE')"
   ]
  },
  {
   "cell_type": "code",
   "execution_count": 456,
   "metadata": {},
   "outputs": [
    {
     "name": "stdout",
     "output_type": "stream",
     "text": [
      "The MSE of KNN is 7.415055555555557\n"
     ]
    }
   ],
   "source": [
    "KNN = KNeighborsRegressor(n_neighbors=3)\n",
    "KNN.fit(X_train, y_train)\n",
    "MSE = np.square(KNN.predict(X_test) - y_test).mean()\n",
    "print('The MSE of KNN is '+str(MSE))"
   ]
  },
  {
   "cell_type": "markdown",
   "metadata": {},
   "source": [
    "In this case, when k=3, the model reaches the best performance."
   ]
  },
  {
   "cell_type": "code",
   "execution_count": 457,
   "metadata": {},
   "outputs": [
    {
     "data": {
      "text/plain": [
       "Text(0, 0.5, 'the average square error')"
      ]
     },
     "execution_count": 457,
     "metadata": {},
     "output_type": "execute_result"
    },
    {
     "data": {
      "image/png": "[encoded data removed]",
      "text/plain": [
       "<Figure size 432x288 with 1 Axes>"
      ]
     },
     "metadata": {
      "needs_background": "light"
     },
     "output_type": "display_data"
    }
   ],
   "source": [
    "#SingularValueRegressor.\n",
    "ASE_list=[]\n",
    "SVR = SingularValueRegressor(2) #initialize\n",
    "SVR.fit(X_train, y_train)\n",
    "\n",
    "for r in range(7):\n",
    "    SVR.change_rank(r+1)\n",
    "    ASE = np.square(SVR.predict(X_test)- y_test).mean()\n",
    "    ASE_list.append(ASE)\n",
    "\n",
    "import matplotlib.pyplot as plt\n",
    "plt.plot(list(range(7)),ASE_list)\n",
    "plt.xlabel('rank r')\n",
    "plt.ylabel('the average square error')"
   ]
  },
  {
   "cell_type": "code",
   "execution_count": 458,
   "metadata": {},
   "outputs": [
    {
     "name": "stdout",
     "output_type": "stream",
     "text": [
      "The MSE of SVR is 11.065623947887762\n"
     ]
    }
   ],
   "source": [
    "SVR.change_rank(7)\n",
    "ASE = np.square(SVR.predict(X_test)- y_test).mean()\n",
    "print('The MSE of SVR is '+str(ASE))"
   ]
  },
  {
   "cell_type": "markdown",
   "metadata": {},
   "source": [
    "In this case, when $p=r$, the model reaches the best performance."
   ]
  },
  {
   "cell_type": "markdown",
   "metadata": {},
   "source": [
    "# Conclusion\n",
    "In summary, here the linear model gives the best performance."
   ]
  },
  {
   "cell_type": "code",
   "execution_count": null,
   "metadata": {},
   "outputs": [],
   "source": []
  }
 ],
 "metadata": {
  "kernelspec": {
   "display_name": "Python 3",
   "language": "python",
   "name": "python3"
  },
  "language_info": {
   "codemirror_mode": {
    "name": "ipython",
    "version": 3
   },
   "file_extension": ".py",
   "mimetype": "text/x-python",
   "name": "python",
   "nbconvert_exporter": "python",
   "pygments_lexer": "ipython3",
   "version": "3.7.3"
  }
 },
 "nbformat": 4,
 "nbformat_minor": 2
}
