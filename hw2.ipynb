{
 "cells": [
  {
   "cell_type": "markdown",
   "metadata": {},
   "source": [
    "# STA 208: Homework 2 (Do not distribute)\n",
    "\n",
    "__Instructions:__ To make grading easier for the TAs please submit it on canvas in a zip file with either the scanned solutions clearly written or in the jupyter notebook below.  The zip file should include all of your code either in this notebook file, or a separate python file that is imported and ran in this notebook.  We should be able to open this notebook and run everything here by running the cells in sequence.  The written portions can be either done in markdown and TeX in new cells or written clearly by hand and scanned.\n",
    "\n",
    "- Code should be well organized and documented\n",
    "- All math should be clear and make sense sequentially\n",
    "- When in doubt explain what is going on\n",
    "- You will be graded on correctness of your math, code efficiency and succinctness, and conclusions and modelling decisions"
   ]
  },
  {
   "cell_type": "markdown",
   "metadata": {},
   "source": [
    "__Exercise 1__ (30 pts)\n",
    "\n",
    "Consider Poisson model with rate parameter $\\lambda$ which has PMF,\n",
    "$$\n",
    "p(y|\\lambda) = \\frac{\\lambda^y}{y!} e^{-\\lambda},\n",
    "$$\n",
    "where $y = 0,1,\\ldots$ is some count variable.\n",
    "In Poison regression, we model $\\lambda = e^{\\beta^\\top x}$ to obtain $p(y | x,\\beta)$.\n",
    "\n",
    "1. Let the loss function for Poisson regression be $\\ell_i(\\beta) \\propto - \\log p(y_i | x_i, \\beta)$ for a dataset consisting of predictor variables and count values $\\{x_i,y_i\\}_{i=1}^n$.  Here $\\propto$ means that we disregard any additive terms that are not dependent on $\\beta$.  Write an expression for $\\ell_i$ and derive its gradient. \n",
    "2. Show that the empirical risk $R_n(\\beta)$ is a convex function of $\\beta$.\n",
    "3. Consider the mapping $F_\\eta(\\beta) = \\beta - \\eta \\nabla R_n(\\beta)$ which is the iteration of gradient descent ($\\eta>0$ is called the learning parameter).  Show that at the minimizer of $R_n$, $\\hat \\beta$, we have that $F(\\hat \\beta) = \\hat \\beta$.\n",
    "4. I have a script to simulate from this model below.  Implement the gradient descent algorithm above and show that with enough data (n large enough) the estimated $\\hat \\beta$ approaches the true $\\beta$ (you can look at the sum of square error between these two vectors)."
   ]
  },
  {
   "cell_type": "markdown",
   "metadata": {},
   "source": [
    "#### 1 \n",
    "Given that PMF $p(y|\\lambda) = \\frac{\\lambda^y}{y!}e^{-\\lambda}$ and $\\lambda = e^{\\beta^Tx}$, we have \n",
    "$$\\ell_i(\\beta) \\propto - \\log p(y_i | x_i, \\beta) = - y_i\\log\\lambda+\\log y_i!+\\lambda=-y_i\\beta^Tx_i +\\log y_i! + e^{\\beta^Tx_i}$$\n",
    "We disregrard any additive terms that are not dependent on $\\beta$. So the expression for $\\ell_i$ is \n",
    "$$ \\ell_i(\\beta) = -y_i\\beta^Tx_i + e^{\\beta^Tx_i}$$\n",
    "The gradient is \n",
    "$$\\nabla \\ell_i(\\beta) = -y_i x_i + e^{\\beta^Tx_i}x_i=x_i(-y_i + e^{\\beta^Tx_i})$$\n"
   ]
  },
  {
   "cell_type": "markdown",
   "metadata": {},
   "source": [
    "#### 2\n",
    "First, we know that the empirical risk is\n",
    "$$R_n(\\beta) = \\frac{1}{n}\\sum_{i=1}^n -y_i\\beta^Tx_i + e^{\\beta^Tx_i} $$\n",
    "then\n",
    "$$\\nabla^2 R_n(\\beta) = \\frac{1}{n} \\sum_{i=1}^n x_i e^{\\beta^Tx_i}x_i^T $$\n",
    "By the definition, we know that \n",
    "$$\\beta^T (\\frac{1}{n} \\sum_{i=1}^n x_i e^{\\beta^Tx_i}x_i^T ) \\beta = \\frac{1}{n} \\sum_{i=1}^n (\\beta^Tx_i e^{\\beta^Tx_i}x_i^T \\beta)=\\frac{1}{n} \\sum_{i=1}^n e^{\\beta^Tx_i} (\\beta^Tx_ix_i^T \\beta) $$\n",
    "$e^{\\beta^Tx_i}>0$ and $\\beta^Tx_ix_i^T \\beta\\geq 0 $  Obviouly, for any $\\beta$, the expression is larger than 0 , so we have \n",
    "$$\\beta^T (\\frac{1}{n} \\sum_{i=1}^n x_i e^{\\beta^Tx_i}x_i^T ) \\beta \\geq 0,\\quad \\forall \\beta$$\n"
   ]
  },
  {
   "cell_type": "markdown",
   "metadata": {},
   "source": [
    "#### 3\n",
    "Notice that $F_\\eta(\\beta) = \\beta - \\eta \\nabla R_n(\\beta)$ is the iteration of gradient descent. At the minimizer of $R_n(\\beta)$, we know that the risk is a convex function, which means $\\hat{\\beta}$ is the solution of the equation\n",
    "$$\\nabla R_n(\\hat{\\beta}) = 0$$\n",
    "Hence, for the iteration, \n",
    "$$F_\\eta(\\hat{\\beta}) = \\hat{\\beta} - \\eta \\nabla R_n(\\hat{\\beta}) = \\hat{\\beta}$$"
   ]
  },
  {
   "cell_type": "code",
   "execution_count": 254,
   "metadata": {},
   "outputs": [],
   "source": [
    "import numpy as np\n",
    "import matplotlib.pyplot as plt"
   ]
  },
  {
   "cell_type": "code",
   "execution_count": 255,
   "metadata": {},
   "outputs": [],
   "source": [
    "## Simulate from the Poisson regression model (use y,X)\n",
    "n, p = 1000,20\n",
    "X = np.random.normal(0,1,size = (n,p))\n",
    "beta = np.random.normal(0,.2,size = (p))\n",
    "lamb = np.exp(X @ beta)\n",
    "y = np.random.poisson(lamb)"
   ]
  },
  {
   "cell_type": "code",
   "execution_count": 256,
   "metadata": {},
   "outputs": [
    {
     "name": "stdout",
     "output_type": "stream",
     "text": [
      "the sum of square error  is 0.0002725322452510004\n"
     ]
    }
   ],
   "source": [
    "def GDA_Poisson(y,X,step = 0.001,epsilon = 0.001):\n",
    "    \"\"\"\n",
    "    First, generate an initial beta\n",
    "    Then, run the iteration\n",
    "    \n",
    "    \"\"\"\n",
    "    n,p = X.shape\n",
    "    beta0 = np.zeros(p)\n",
    "    for i in range(100000):\n",
    "        GD = np.zeros(p)\n",
    "        for j in range(n):\n",
    "            GD += X[j,:] * (-y[j] + np.exp(X[j,:] @ beta0))\n",
    "        GD = GD/n \n",
    "        if np.linalg.norm(GD) < epsilon:   # The gradient is almost zero\n",
    "            break\n",
    "        else:\n",
    "            beta0 = beta0 - step * GD \n",
    "    return beta0\n",
    "\n",
    "print('the sum of square error  is ' + str(np.square(GDA_Poisson(y,X)-beta).mean()))"
   ]
  },
  {
   "cell_type": "code",
   "execution_count": 257,
   "metadata": {},
   "outputs": [],
   "source": [
    "n_list = [1000*(i+1) for i in range(10)]\n",
    "error = []\n",
    "for n in n_list:    \n",
    "    p = 20\n",
    "    X = np.random.normal(0,1,size = (n,p))\n",
    "    beta = np.random.normal(0,.2,size = (p))\n",
    "    lamb = np.exp(X @ beta)\n",
    "    y = np.random.poisson(lamb)\n",
    "    error.append(np.square(GDA_Poisson(y,X)-beta).mean())"
   ]
  },
  {
   "cell_type": "markdown",
   "metadata": {},
   "source": [
    "We can notice that the larger n is, the smaller the error is. With enough data, the estimated $\\hat{\\beta}$ approaches the true $\\beta$."
   ]
  },
  {
   "cell_type": "code",
   "execution_count": 258,
   "metadata": {},
   "outputs": [
    {
     "data": {
      "text/plain": [
       "[<matplotlib.lines.Line2D at 0x1e116edaa90>]"
      ]
     },
     "execution_count": 258,
     "metadata": {},
     "output_type": "execute_result"
    },
    {
     "data": {
      "image/png": "[encoded data removed]",
      "text/plain": [
       "<Figure size 432x288 with 1 Axes>"
      ]
     },
     "metadata": {
      "needs_background": "light"
     },
     "output_type": "display_data"
    }
   ],
   "source": [
    "plt.plot(n_list,error)"
   ]
  },
  {
   "cell_type": "markdown",
   "metadata": {},
   "source": [
    "__Exercise 2__ (30 pts)\n",
    "\n",
    "Recall the subset selection problem with tuning parameter $k$,\n",
    "$$\n",
    "\\min_{\\beta : |{\\rm supp}(\\beta)| \\le k}\\| y - X \\beta \\|_2^2,\n",
    "$$\n",
    "where \n",
    "${\\rm supp}(\\beta) = \\{j = 1\\,\\ldots,p : \\beta_j \\ne 0 \\}$. Notice that we can write this as \n",
    "$$\n",
    "\\min_{\\beta : \\| \\beta \\|_0 \\le k}\\| y - X \\beta \\|_2^2,\n",
    "$$\n",
    "where \n",
    "1. Write the subset selection problem in the following form\n",
    "$$\n",
    "\\min_{S \\subseteq \\{1,\\ldots,p\\}, |S|\\le k} y^\\top P_S y,\n",
    "$$\n",
    "where $P_S$ is a projection.  Describe the subspace that is the range of this projection.\n",
    "2. Suppose that we have a nested sequence of models $S_1\\subset S_2 \\subset \\ldots \\subset S_p$ such that $|S_k| = k$ (it contains $k$ variables).  Prove that $$y^\\top P_{S_k} y \\ge y^\\top P_{S_{k+1}} y$$ for $k=1,\\ldots,p-1$.  What does this tell us about the solution to the subset selection problem and the constraint $|S| \\le k$?\n",
    "3. Suppose that $X$ is orthogonal, then write a computationally efficient pseudocode to solve the subset selection problem.  Prove that it is correct (your algorithm actually solves subset selection under othogonal design).\n",
    "4. (Challenge) Suppose that we have that $n = p$ and $y_i = \\beta_i + \\epsilon_i$ (identity design matrix) where $\\epsilon_i$ satisfies \n",
    "$$\n",
    "\\mathbb P \\left\\{ |\\epsilon_i| \\ge t \\right\\} \\le 2 e^{-t^2 / 2\\sigma^2}\n",
    "$$\n",
    "for any $t > 0$ (this is true for central Normal RVs) for some $\\sigma > 0$.\n",
    "Suppose that there is some true $S_0 \\subset\\{1,\\ldots,p\\}$ such that $|S_0| = k < p$ and ${\\rm supp}(\\beta) = S_0$.\n",
    "Prove the following.\n",
    "\n",
    "__Proposition__\n",
    "Define $\\mu = \\min_{j \\in S_0} |\\beta_j|$ and call $\\mu / \\sigma$ the signal-to-noise ratio.  Then if \n",
    "$$\n",
    "\\frac{\\mu}{\\sigma} > 2 \\sqrt{2 \\log \\left( \\frac{2n}{\\delta}\\right)},\n",
    "$$\n",
    "then the true $S$ is selected by subset selection with probability at least $1 - \\delta$.\n",
    "\n",
    "Hint: rewrite the subset selection problem with $X = I$ and compare the objective at $S_0$ to any other $S$."
   ]
  },
  {
   "cell_type": "markdown",
   "metadata": {},
   "source": [
    "#### 1\n",
    "\n",
    "We know that the minimizer of $\\|y-X\\beta\\|_2^2$  is $(X^TX)^{-1}X^Ty$. Here, \n",
    "$$\\|y-X(X^TX)^{-1}X^Ty\\|_2^2 = \\|(I-X(X^TX)^{-1}X^T)y\\|_2^2 =\\|(I-H)y\\|_2^2=y^T(I-H)^T(I-H)y$$\n",
    "If we consider that $|{\\rm supp}(\\beta)| \\le k$, it means some variables of X don't work in the model, i.e. $X \\rightarrow X_S$ and $H\\rightarrow H_S$. Finally, $$P_S = (I-H_S)^T(I-H_S)=I-H_S$$\n",
    "We know that it is a projection. It projects a vector to the orthogonal space of the column space  <$X_S$>,which means\n",
    "$$(I-H_S)w\\; \\bot\\; \\text{<}X_S\\text{>}$$"
   ]
  },
  {
   "cell_type": "markdown",
   "metadata": {},
   "source": [
    "#### 2\n",
    "\n",
    "$y^\\top P_{S_k}y$ is the square sum of error. For $P_{S_k}$ and $P_{S_{k+1}}$ with $S_k \\subset S_{k+1}$, we know that $S_{k+1}$ means that $k+1$ variables are used in the model and $S_{k}$ only uses $k$ of them. So the error of $y^\\top P_{S_k}y$ is larger than $y^\\top P_{S_{k+1}}y$. \n",
    "\n",
    "The proof is obvious. \n",
    "\n",
    "We denote $\\beta_{k+1}=[\\beta_k,\\beta_j]$, here $\\beta_{k+1}$ is the estimator of $y^\\top P_{S_{k+1}}y$ and $\\beta_{k}$ is the estimator of $y^\\top P_{S_{k}}y$. For the $X_{k+1} = [X_k,x_j]$. and\n",
    "$$(X_{k+1}^TX_{k+1})^{-1} = \\Omega  = [\\Omega_{1,1},\\Omega_{1,2};\\Omega_{2,1},\\Omega_{2,2}]$$\n",
    "Hence,\n",
    "$y^\\top P_{S_{k+1}}y =y^\\top y-y^\\top H_{k+1}y = y^\\top y-y^\\top(X_{k+1}(X_{k+1}^TX_{k+1})^{-1}X_{k+1}^T   )y$. \n",
    "\n",
    "$$X_{k+1}(X_{k+1}^TX_{k+1})^{-1}X_{k+1}^T = X_k\\Omega_{1,1}X_k^T + C $$\n",
    "\n",
    "Hence,\n",
    "$$y^\\top P_{S_{k+1}}y  = y^\\top y - y^\\top(X_k\\Omega_{1,1}X_k)y- y^\\top Cy = y^\\top P_{S_{k}}y - y^\\top Cy$$\n",
    "\n",
    "Finally,\n",
    "$$y^\\top P_{S_k} y \\ge y^\\top P_{S_{k+1}} y$$\n",
    "\n",
    "It means once given $|S| \\le k$, then the model will reach the solution at $|S|= k$ and the greedy algorithm works in this case.\n"
   ]
  },
  {
   "cell_type": "markdown",
   "metadata": {},
   "source": [
    "#### 3\n",
    "In this case, $X$ is orthogonal, so \n",
    "$$X^TX = diag (X_1^2,...,X_k^2)$$\n",
    "Here, $X_i^2$ means the square of l2-norm of $X_i$ and\n",
    "$$(X^TX)^{-1} = diag (1/X_1^2,...,1/X_k^2)$$\n",
    "Hence, our model turns to be:\n",
    "$$y^\\top P_{S_{k+1}}y  = y^\\top y-y^\\top(X(X^TX)^{-1}X^T   )y$$\n",
    "$$y^\\top P_{S_{k+1}}y = y^2 -  (X^Ty)^T (X^Ty) diag (1/X_1^2,...,1/X_k^2)$$\n",
    "Fianlly,\n",
    "$$y^\\top P_{S_{k+1}}y = ||y||^2 - \\sum \\frac{(X^Ty)_i^2}{||X_i||^2}$$\n",
    "\n",
    "#### pseudocode\n",
    "\n",
    "Compute $\\frac{(X^Ty)_i^2}{||X_i||^2}$, for $i = 1,...,p$.\n",
    "\n",
    "For i = 1,...,k:\n",
    "\n",
    "$\\quad$ Find $k$ largest $\\frac{(X^Ty)_i^2}{||X_i||^2}$ and get their index.\n",
    "\n",
    "$\\quad$Compute $y^\\top P_{S_{k}}y = ||y||^2 - \\sum_1^k \\frac{(X^Ty)_i^2}{||X_i||^2}$"
   ]
  },
  {
   "cell_type": "markdown",
   "metadata": {},
   "source": [
    "#### 4\n",
    "We have\n",
    "$$\n",
    "\\frac{\\mu}{\\sigma} > 2 \\sqrt{2 \\log \\left( \\frac{2n}{\\delta}\\right)},\n",
    "$$\n",
    "\n",
    "so\n",
    "\n",
    "$$\n",
    "(\\frac{\\mu}{\\sigma})^2 > 8 \\log \\left( \\frac{2n}{\\delta}\\right),\n",
    "$$\n",
    "\n",
    "We also have\n",
    "$$\n",
    "\\mathbb P \\left\\{ |\\epsilon_i| \\ge t \\right\\} \\le 2 e^{-t^2 / 2\\sigma^2}\n",
    "$$\n",
    "Let $t = \\frac{\\mu}{2}$,then\n",
    "$$\n",
    "\\mathbb P \\left\\{ |\\epsilon_i| \\ge \\frac{\\mu}{2} \\right\\} \\le 2 e^{-(\\frac{\\mu}{2})^2 / 2\\sigma^2}\\le 2e^{-\\log(\\frac{2n}{\\delta})} = 2\\frac{\\delta}{2n} = \\frac{\\delta}{n}\\le \\delta\n",
    "$$\n",
    "Hence, when we consider the subset selection problem with $X=I$, we have\n",
    "$$\\mathbb P(S) = 1-\\mathbb P(\\neg S) = 1 - \\mathbb P\\left\\{ |\\epsilon_i| \\ge t \\right\\} \\ge 1-\\delta$$"
   ]
  },
  {
   "cell_type": "markdown",
   "metadata": {},
   "source": [
    "__Exercise 3__ (40 pts)\n",
    "For this exercise, it may be helpful to use the `sklearn.linear_model` module.  I have also included a plotting tool for making the lasso path in ESL.\n",
    "\n",
    "1. Load the training and test data using the script below.  Fit OLS on the training dataset and compute the test error.  Throughout you do not need to compute an intercept but you should normalize the X (divide by the column norms).\n",
    "2. Train and tune ridge regression using a validation set and compute the test error (square error loss).\n",
    "3. Fit the lasso path with lars to the data and compute the test error for each returned lasso coefficient.\n",
    "4. Perform 3 without the lasso modification generating the lars path.  Compare and contrast the lars path to the lasso path, what is the key difference.  Tell me when the active sets differ and how, if they do at all.\n",
    "4. Extract each active set from the lasso path and recompute the restricted OLS for each.  Compute and compare the test error for each model.\n",
    "5. If your boss said that they wanted a more parsimonious model (a smaller model) then which model would you choose, justify your answer.  Under which circumstance would you choose the model with the smallest test error."
   ]
  },
  {
   "cell_type": "code",
   "execution_count": 239,
   "metadata": {},
   "outputs": [],
   "source": [
    "def plot_lars(coefs, lines=False, title=\"Lars Path\"):\n",
    "    \"\"\"\n",
    "    Plot the lasso path where coefs is a matrix - the columns are beta vectors\n",
    "    \"\"\"\n",
    "    xx = np.sum(np.abs(coefs.T), axis=1)\n",
    "    xx /= xx[-1]\n",
    "    plt.plot(xx, coefs.T)\n",
    "    ymin, ymax = plt.ylim()\n",
    "    if lines:\n",
    "        plt.vlines(xx, ymin, ymax, linestyle='dashed')\n",
    "    plt.xlabel('|coef| / max|coef|')\n",
    "    plt.ylabel('Coefficients')\n",
    "    plt.title(title)\n",
    "    plt.axis('tight')"
   ]
  },
  {
   "cell_type": "code",
   "execution_count": 240,
   "metadata": {},
   "outputs": [],
   "source": [
    "import pickle\n",
    "with open('hw2.data','rb') as f:\n",
    "    y_tr,X_tr,y_te,X_te = pickle.load(f)"
   ]
  },
  {
   "cell_type": "code",
   "execution_count": 260,
   "metadata": {},
   "outputs": [
    {
     "name": "stdout",
     "output_type": "stream",
     "text": [
      "The MSE of OLS is 1.0389234918960193\n"
     ]
    }
   ],
   "source": [
    "#1\n",
    "from sklearn.linear_model import LinearRegression\n",
    "from sklearn import preprocessing\n",
    "   \n",
    "X_tr0 = X_tr/np.linalg.norm(X_tr,axis=0)  #normalize the X\n",
    "\n",
    "X_te0 = X_te/np.linalg.norm(X_te,axis=0)  #normalize the X\n",
    "#They give the same result.\n",
    "OLS = LinearRegression()\n",
    "OLS.fit(X_tr, y_tr)\n",
    "\n",
    "MSE = np.square(OLS.predict(X_te) - y_te).mean()\n",
    "print('The MSE of OLS is '+str(MSE))"
   ]
  },
  {
   "cell_type": "code",
   "execution_count": 261,
   "metadata": {},
   "outputs": [
    {
     "name": "stdout",
     "output_type": "stream",
     "text": [
      "The MSE of Ridge is 1.036900903818157, The tuning parameter is 4.23.\n"
     ]
    },
    {
     "data": {
      "image/png": "[encoded data removed]",
      "text/plain": [
       "<Figure size 432x288 with 1 Axes>"
      ]
     },
     "metadata": {
      "needs_background": "light"
     },
     "output_type": "display_data"
    }
   ],
   "source": [
    "#2\n",
    "from sklearn.linear_model import Ridge\n",
    "from sklearn.model_selection import train_test_split\n",
    "\n",
    "# ridge regression\n",
    "MSE_list=[]\n",
    "n=800\n",
    "min_record,min_i = 100000,0\n",
    "for i in range(n):\n",
    "    RR = Ridge(alpha=i/100)\n",
    "    X1, X2, y1, y2 = train_test_split(X_tr, y_tr, test_size=0.25,random_state=208) #we don't fix the validation set\n",
    "    RR.fit(X1, y1)\n",
    "    MSE = np.square(RR.predict(X2) - y2).mean()\n",
    "    if MSE < min_record:\n",
    "        min_record = MSE\n",
    "        min_i = i\n",
    "    MSE_list.append(MSE)\n",
    "plt.plot(list(range(n)),MSE_list)\n",
    "plt.xlabel('alpha')\n",
    "plt.ylabel('MSE')\n",
    "\n",
    "RR = Ridge(alpha=min_i/100)\n",
    "RR.fit(X_tr, y_tr)\n",
    "MSE = np.square(RR.predict(X_te) - y_te).mean()\n",
    "\n",
    "print('The MSE of Ridge is '+str(MSE)+', The tuning parameter is '+str(min_i/100)+'.')"
   ]
  },
  {
   "cell_type": "code",
   "execution_count": 265,
   "metadata": {
    "scrolled": false
   },
   "outputs": [
    {
     "name": "stdout",
     "output_type": "stream",
     "text": [
      "."
     ]
    },
    {
     "data": {
      "image/png": "[encoded data removed]",
      "text/plain": [
       "<Figure size 432x288 with 1 Axes>"
      ]
     },
     "metadata": {
      "needs_background": "light"
     },
     "output_type": "display_data"
    }
   ],
   "source": [
    "#3\n",
    "from sklearn import linear_model\n",
    "alpha0, _, coefs0 = linear_model.lars_path(X_tr0, y_tr, method='lasso', verbose=True)\n",
    "plot_lars(coefs0, lines=False, title=\"Lars Path\")"
   ]
  },
  {
   "cell_type": "code",
   "execution_count": 266,
   "metadata": {},
   "outputs": [
    {
     "data": {
      "text/plain": [
       "[<matplotlib.lines.Line2D at 0x1e115980208>]"
      ]
     },
     "execution_count": 266,
     "metadata": {},
     "output_type": "execute_result"
    },
    {
     "data": {
      "image/png": "[encoded data removed]",
      "text/plain": [
       "<Figure size 432x288 with 1 Axes>"
      ]
     },
     "metadata": {
      "needs_background": "light"
     },
     "output_type": "display_data"
    }
   ],
   "source": [
    "MSE_list = []\n",
    "\n",
    "for alpha_0 in alpha:\n",
    "    LAS = linear_model.LassoLars(alpha = alpha_0)\n",
    "    LAS.fit(X_tr0, y_tr)\n",
    "    MSE_list.append(np.square(LAS.predict(X_te0) - y_te).mean())\n",
    "plt.plot(range(len(alpha)),MSE_list)   # the X axis is the index of lambda"
   ]
  },
  {
   "cell_type": "code",
   "execution_count": 267,
   "metadata": {
    "scrolled": true
   },
   "outputs": [
    {
     "name": "stdout",
     "output_type": "stream",
     "text": [
      "."
     ]
    },
    {
     "data": {
      "image/png": "[encoded data removed]",
      "text/plain": [
       "<Figure size 432x288 with 1 Axes>"
      ]
     },
     "metadata": {
      "needs_background": "light"
     },
     "output_type": "display_data"
    }
   ],
   "source": [
    "#4\n",
    "alpha, _, coefs1 = linear_model.lars_path(X_tr0, y_tr, method='lar', verbose=True)\n",
    "plot_lars(coefs1, lines=False, title=\"Lars Path\")"
   ]
  },
  {
   "cell_type": "markdown",
   "metadata": {},
   "source": [
    "Actually, they give similar plots. The LARS algorithm is a greedy method that does not yield a provably consistent estimator (in other words, it does not converge to a stable result when you increase the number of samples). \n",
    "\n",
    "reference: https://stats.stackexchange.com/questions/4663/least-angle-regression-vs-lasso"
   ]
  },
  {
   "cell_type": "code",
   "execution_count": 293,
   "metadata": {},
   "outputs": [
    {
     "name": "stdout",
     "output_type": "stream",
     "text": [
      "the active sets differ at 4,17,22,24,26,31,33,34,35,38,41,44,46,56,59,60,62,80,83,88,94,100,\n"
     ]
    }
   ],
   "source": [
    "activediff = []\n",
    "for i in range(100):\n",
    "    a = coefs0[i,:].tolist().count(0)\n",
    "    b = coefs1[i,:].tolist().count(0)\n",
    "    if a!=b:\n",
    "        activediff.append(i+1)\n",
    "str0 = ''\n",
    "for j in activediff:\n",
    "    str0 += str(j)\n",
    "    str0 += ','\n",
    "print('the active sets differ at '+ str0)"
   ]
  },
  {
   "cell_type": "code",
   "execution_count": 300,
   "metadata": {
    "scrolled": true
   },
   "outputs": [
    {
     "name": "stdout",
     "output_type": "stream",
     "text": [
      "."
     ]
    },
    {
     "data": {
      "text/plain": [
       "[<matplotlib.lines.Line2D at 0x1e11a76ec88>]"
      ]
     },
     "execution_count": 300,
     "metadata": {},
     "output_type": "execute_result"
    },
    {
     "data": {
      "image/png": "[encoded data removed]",
      "text/plain": [
       "<Figure size 432x288 with 1 Axes>"
      ]
     },
     "metadata": {
      "needs_background": "light"
     },
     "output_type": "display_data"
    }
   ],
   "source": [
    "# 5\n",
    "alpha0, _, coefs0 = linear_model.lars_path(X_0, y_tr, method='lasso', verbose=True)\n",
    "\n",
    "MSE_list = []\n",
    "for j in range(1, 103):\n",
    "    indices = [i for i, x in enumerate(coefs0[:,j].tolist()) if x != 0]\n",
    "    X_new, y_new = X_tr0[:,indices],y_tr\n",
    "    OLS = LinearRegression()\n",
    "    OLS.fit(X_new, y_new)\n",
    "    MSE_list.append(np.square(OLS.predict(X_te0[:,indices]) - y_te).mean())\n",
    "\n",
    "plt.plot(list(range(102)),MSE_list)"
   ]
  },
  {
   "cell_type": "markdown",
   "metadata": {},
   "source": [
    "Notice that although the error is decreasing, it has only several obvious decreasing steps."
   ]
  },
  {
   "cell_type": "markdown",
   "metadata": {},
   "source": [
    "##### 6\n",
    "If my boss said that they wanted a a smaller model then I will choose LASSO model. The L1 penalty makes more coefficients equal zero which makes the model smaller. \n",
    "\n",
    "I choose the model with the smallest test error when I doesn't care about the computational complexity and only care about the accuracy.   "
   ]
  },
  {
   "cell_type": "code",
   "execution_count": null,
   "metadata": {},
   "outputs": [],
   "source": []
  }
 ],
 "metadata": {
  "kernelspec": {
   "display_name": "Python 3",
   "language": "python",
   "name": "python3"
  },
  "language_info": {
   "codemirror_mode": {
    "name": "ipython",
    "version": 3
   },
   "file_extension": ".py",
   "mimetype": "text/x-python",
   "name": "python",
   "nbconvert_exporter": "python",
   "pygments_lexer": "ipython3",
   "version": "3.7.3"
  }
 },
 "nbformat": 4,
 "nbformat_minor": 2
}
